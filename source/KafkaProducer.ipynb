{
 "cells": [
  {
   "cell_type": "code",
   "execution_count": null,
   "id": "9248989d-e217-4fd4-b772-5887dde95b23",
   "metadata": {},
   "outputs": [],
   "source": [
    "import six\n",
    "import sys\n",
    "if sys.version_info >= (3, 12, 0):\n",
    "    sys.modules['kafka.vendor.six.moves'] = six.moves"
   ]
  },
  {
   "cell_type": "code",
   "execution_count": null,
   "id": "a7872ae4-1f77-4927-9e95-03f562b2efe6",
   "metadata": {},
   "outputs": [],
   "source": [
    "from kafka import KafkaProducer\n",
    "import pandas as pd\n",
    "import time\n",
    "import random\n",
    "import json"
   ]
  },
  {
   "cell_type": "code",
   "execution_count": null,
   "id": "e3af75b6-4557-443c-9c9f-50c0ccdbbba2",
   "metadata": {},
   "outputs": [],
   "source": [
    "df = pd.read_csv('../data/User0_credit_card_transactions.csv')\n",
    "df.head()"
   ]
  },
  {
   "cell_type": "code",
   "execution_count": null,
   "id": "341d45c2-5a15-4b4e-b002-8460e84ecbc4",
   "metadata": {},
   "outputs": [],
   "source": [
    "# Khởi tạo Kafka producer\n",
    "producer = KafkaProducer(\n",
    "    bootstrap_servers='localhost:9092',  # Địa chỉ Kafka broker\n",
    "    value_serializer=lambda v: json.dumps(v).encode('utf-8')\n",
    ")\n"
   ]
  },
  {
   "cell_type": "code",
   "execution_count": null,
   "id": "4bdcea5d-8bcd-428e-9368-27fe9a92ba6d",
   "metadata": {},
   "outputs": [],
   "source": [
    "# Topic Kafka\n",
    "topic = 'Project'"
   ]
  },
  {
   "cell_type": "code",
   "execution_count": null,
   "id": "b649f3aa",
   "metadata": {},
   "outputs": [],
   "source": [
    "def clean_amount(amount):\n",
    "    if '(' in amount:\n",
    "        amount = amount.replace('(','')\n",
    "        amount = amount.replace(')','')\n",
    "        amount = amount.replace(',','')\n",
    "        return -float(amount.replace('$',''))\n",
    "    else:\n",
    "        amount = amount.replace(',','') \n",
    "        return float(amount.replace('$',''))"
   ]
  },
  {
   "cell_type": "code",
   "execution_count": null,
   "id": "aa3e18e6-d045-444f-a484-afa2faf26233",
   "metadata": {},
   "outputs": [],
   "source": [
    "for index, row in df.iterrows():\n",
    "    transaction = {\n",
    "        \"User\": row['User'],\n",
    "        \"Card\": row['Card'],\n",
    "        \"Year\": row['Year'],\n",
    "        \"Month\": row['Month'],\n",
    "        \"Day\": row['Day'],\n",
    "        \"Time\": row['Time'],\n",
    "        \"Amount\": clean_amount(row['Amount']),\n",
    "        \"Use Chip\": row['Use Chip'],\n",
    "        \"Merchant Name\": row['Merchant Name'],\n",
    "        \"Merchant City\": row['Merchant City'],\n",
    "        \"Merchant State\": row['Merchant State'],\n",
    "        \"Zip\": row['Zip'],\n",
    "        \"MCC\": row['MCC'],\n",
    "        \"Errors?\": row['Errors?'],\n",
    "        \"Is Fraud?\": row['Is Fraud?']\n",
    "    }\n",
    "    \n",
    "    # Gửi dữ liệu vào Kafka\n",
    "    print(transaction)\n",
    "    producer.send(topic, transaction)\n",
    "    \n",
    "    # Chờ thời gian ngẫu nhiên giữa 1s và 3s\n",
    "    time.sleep(random.uniform(1, 3))"
   ]
  },
  {
   "cell_type": "code",
   "execution_count": null,
   "id": "ceda75fc-bc33-45cd-8958-11579b3eed7c",
   "metadata": {},
   "outputs": [],
   "source": [
    "producer.flush()\n",
    "producer.close()"
   ]
  }
 ],
 "metadata": {
  "kernelspec": {
   "display_name": "Python 3",
   "language": "python",
   "name": "python3"
  },
  "language_info": {
   "codemirror_mode": {
    "name": "ipython",
    "version": 3
   },
   "file_extension": ".py",
   "mimetype": "text/x-python",
   "name": "python",
   "nbconvert_exporter": "python",
   "pygments_lexer": "ipython3",
   "version": "3.12.7"
  }
 },
 "nbformat": 4,
 "nbformat_minor": 5
}
